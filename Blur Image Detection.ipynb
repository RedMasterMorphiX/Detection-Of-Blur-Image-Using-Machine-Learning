{
 "cells": [
  {
   "cell_type": "markdown",
   "id": "df4443e8-161d-4f11-b50a-8689d672f09b",
   "metadata": {},
   "source": [
    "### Import the library"
   ]
  },
  {
   "cell_type": "code",
   "execution_count": 1,
   "id": "813420d1-60f2-431d-b72b-de47062e9579",
   "metadata": {},
   "outputs": [],
   "source": [
    "import cv2\n",
    "import numpy as np"
   ]
  },
  {
   "cell_type": "markdown",
   "id": "96085ad1-8d3b-47db-a2ff-10e0d2f1895e",
   "metadata": {},
   "source": [
    "### Show the original image"
   ]
  },
  {
   "cell_type": "code",
   "execution_count": 2,
   "id": "2f9b34e6-5052-444d-bf13-dec8e3679e3c",
   "metadata": {},
   "outputs": [
    {
     "name": "stdout",
     "output_type": "stream",
     "text": [
      "Clear image\n",
      "761.266690177255\n"
     ]
    }
   ],
   "source": [
    "img = cv2.imread(\"rose.jpeg\")\n",
    "laplacian_var = cv2.Laplacian(img,cv2.CV_64F).var()\n",
    "if laplacian_var <200:\n",
    "    print(\"Blurry image\")\n",
    "else:\n",
    "    print(\"Clear image\")\n",
    "print(laplacian_var)\n",
    "\n",
    "cv2.imshow(\"Img\",img)\n",
    "cv2.waitKey(0)\n",
    "cv2.destroyAllWindows()"
   ]
  },
  {
   "cell_type": "markdown",
   "id": "3985e685-eccf-4416-b351-5b61cb78ce1d",
   "metadata": {},
   "source": [
    "### 2D-Filter use"
   ]
  },
  {
   "cell_type": "code",
   "execution_count": 3,
   "id": "4fe0cbc9-61ff-4a2f-b8c7-0a630ff1ffe2",
   "metadata": {
    "tags": []
   },
   "outputs": [
    {
     "name": "stdout",
     "output_type": "stream",
     "text": [
      "Blurry image\n",
      "11.060715162946355\n"
     ]
    }
   ],
   "source": [
    "\n",
    "img = cv2.imread(\"rose.jpeg\")\n",
    "kernel_5 = np.ones((5,5), np.float32) / 25.0\n",
    "output_kernel = cv2.filter2D(img, -1, kernel_5)\n",
    "laplacian_var = cv2.Laplacian(output_kernel,cv2.CV_64F).var()\n",
    "if laplacian_var <200:\n",
    "    print(\"Blurry image\")\n",
    "    sharpened1 = cv2.addWeighted(img,1.5,output_kernel,-0.5,0)\n",
    "    \n",
    "    cv2.imshow(\"Sharpened 1\", sharpened1)\n",
    "else:\n",
    "    print(\"Clear image\")\n",
    "print(laplacian_var)\n",
    "\n",
    "cv2.imshow(\"kernel blur\",output_kernel)\n",
    "cv2.imshow(\"original\", img)\n",
    "cv2.waitKey(0)\n",
    "cv2.destroyAllWindows()\n"
   ]
  },
  {
   "cell_type": "markdown",
   "id": "8130770e-233f-41dc-b3df-1bb735a372b2",
   "metadata": {},
   "source": [
    "### Karnal Blur use"
   ]
  },
  {
   "cell_type": "code",
   "execution_count": 4,
   "id": "a084fd4b-04b9-4197-aff4-da63dfce2930",
   "metadata": {},
   "outputs": [
    {
     "name": "stdout",
     "output_type": "stream",
     "text": [
      "Blurry image\n",
      "11.060715162946355\n"
     ]
    }
   ],
   "source": [
    "\n",
    "img = cv2.imread(\"rose.jpeg\")\n",
    "output_blur =cv2.blur(img,(5,5))\n",
    "laplacian_var = cv2.Laplacian(output_blur,cv2.CV_64F).var()\n",
    "if laplacian_var <200:\n",
    "    print(\"Blurry image\")\n",
    "    sharpened1 = cv2.addWeighted(img,3.5,output_blur,-2.5,0)\n",
    "    \n",
    "    cv2.imshow(\"Sharpened 1\", sharpened1)\n",
    "    \n",
    "else:\n",
    "    print(\"Clear image\")\n",
    "print(laplacian_var)\n",
    "\n",
    "cv2.imshow(\"Blur() output\", output_blur)\n",
    "cv2.imshow(\"original\", img)\n",
    "cv2.waitKey(0)\n",
    "cv2.destroyAllWindows()"
   ]
  },
  {
   "cell_type": "markdown",
   "id": "7d03f28c-2ab5-4319-8cb7-8e8646f07bc2",
   "metadata": {},
   "source": [
    "### Box-Filter use"
   ]
  },
  {
   "cell_type": "code",
   "execution_count": 5,
   "id": "668b0551-f783-49c4-99ef-1ffab3f74876",
   "metadata": {},
   "outputs": [
    {
     "name": "stdout",
     "output_type": "stream",
     "text": [
      "Blurry image\n",
      "83.98252700035965\n"
     ]
    }
   ],
   "source": [
    "img = cv2.imread(\"rose.jpeg\")\n",
    "output_box = cv2.boxFilter(img, -1, (5,5),normalize = False)\n",
    "laplacian_var = cv2.Laplacian(output_box,cv2.CV_64F).var()\n",
    "if laplacian_var <200:\n",
    "    print(\"Blurry image\")\n",
    "    sharpened1 = cv2.addWeighted(img,1.5,output_box,-0.5,0)\n",
    "    \n",
    "    cv2.imshow(\"Sharpened 1\", sharpened1)\n",
    "\n",
    "else:\n",
    "    print(\"Clear image\")\n",
    "print(laplacian_var)\n",
    "\n",
    "cv2.imshow(\"Box filter\", output_box)\n",
    "cv2.imshow(\"original\", img)\n",
    "cv2.waitKey(0)\n",
    "cv2.destroyAllWindows()"
   ]
  },
  {
   "cell_type": "markdown",
   "id": "78dadb2c-366b-4b41-8898-bee0f28b38ac",
   "metadata": {},
   "source": [
    "### GaussianBlur use"
   ]
  },
  {
   "cell_type": "code",
   "execution_count": 6,
   "id": "5d13e3fd-603b-4481-b574-3bb8ee6164ad",
   "metadata": {},
   "outputs": [
    {
     "name": "stdout",
     "output_type": "stream",
     "text": [
      "Blurry image\n",
      "22.024682901341027\n"
     ]
    }
   ],
   "source": [
    "img = cv2.imread(\"rose.jpeg\")\n",
    "output_gaus = cv2.GaussianBlur(img,(5,5),0)\n",
    "laplacian_var = cv2.Laplacian(output_gaus,cv2.CV_64F).var()\n",
    "if laplacian_var <200:\n",
    "    print(\"Blurry image\")\n",
    "    sharpened1 = cv2.addWeighted(img,1.5,output_gaus,-0.5,0)\n",
    "    sharpened2 = cv2.addWeighted(img,3.5,output_gaus,-2.5,0)\n",
    "    sharpened3 = cv2.addWeighted(img,7.5,output_gaus,-6.5,0)\n",
    "    \n",
    "    cv2.imshow(\"Sharpened 1\", sharpened1)\n",
    "    cv2.imshow(\"Sharpened 2\", sharpened2)\n",
    "    cv2.imshow(\"Sharpened 3\", sharpened3)\n",
    "else:\n",
    "    print(\"Clear image\")\n",
    "print(laplacian_var)\n",
    "\n",
    "cv2.imshow(\"Gaussian\", output_gaus)\n",
    "cv2.imshow(\"original\", img)\n",
    "cv2.waitKey(0)\n",
    "cv2.destroyAllWindows()"
   ]
  },
  {
   "cell_type": "markdown",
   "id": "09e3bc36-1996-4d1f-976e-7d9261cc3c02",
   "metadata": {},
   "source": [
    "### MedianBlur use"
   ]
  },
  {
   "cell_type": "code",
   "execution_count": 7,
   "id": "dfe51638-ce26-42ed-bb90-644261242038",
   "metadata": {},
   "outputs": [
    {
     "name": "stdout",
     "output_type": "stream",
     "text": [
      "Blurry image\n",
      "41.482395859973295\n"
     ]
    }
   ],
   "source": [
    "\n",
    "img = cv2.imread(\"rose.jpeg\")\n",
    "output_med = cv2.medianBlur(img,5)\n",
    "laplacian_var = cv2.Laplacian(output_med,cv2.CV_64F).var()\n",
    "if laplacian_var <200:\n",
    "    print(\"Blurry image\")\n",
    "    sharpened1 = cv2.addWeighted(img,1.5,output_med,-0.5,0)\n",
    "    sharpened2 = cv2.addWeighted(img,3.5,output_med,-2.5,0)\n",
    "    sharpened3 = cv2.addWeighted(img,5.5,output_med,-4.5,0)\n",
    "\n",
    "    cv2.imshow(\"Sharpened 1\", sharpened1)\n",
    "    cv2.imshow(\"Sharpened 2\", sharpened2)\n",
    "    cv2.imshow(\"Sharpened 3\", sharpened3)\n",
    "else:\n",
    "    print(\"Clear image\")\n",
    "print(laplacian_var)\n",
    "\n",
    "cv2.imshow(\"Median Blur\", output_med)\n",
    "cv2.imshow(\"original\", img)\n",
    "cv2.waitKey(0)\n",
    "cv2.destroyAllWindows()"
   ]
  },
  {
   "cell_type": "markdown",
   "id": "62767bdf-5f97-4028-892f-a76952d14c94",
   "metadata": {},
   "source": [
    "### BilateralFilter use"
   ]
  },
  {
   "cell_type": "code",
   "execution_count": 8,
   "id": "65869d47-42b1-4624-94d0-445f86c5d35d",
   "metadata": {},
   "outputs": [
    {
     "name": "stdout",
     "output_type": "stream",
     "text": [
      "Clear image BilateralBlur\n",
      "749.8910092206121\n"
     ]
    }
   ],
   "source": [
    "img = cv2.imread(\"rose.jpeg\")\n",
    "output_bil = cv2.bilateralFilter(img,5,6,6)\n",
    "cv2.imshow(\"BilateralBlur\", output_bil)\n",
    "laplacian_var = cv2.Laplacian(output_bil,cv2.CV_64F).var()\n",
    "if laplacian_var <200:\n",
    "    print(\"Blurry image BilateralBlur\")\n",
    "    sharpened1 = cv2.addWeighted(img,1.5,output_bil,-0.5,0)\n",
    "    sharpened2 = cv2.addWeighted(img,3.5,output_bil,-2.5,0)\n",
    "    sharpened3 = cv2.addWeighted(img,5.5,output_bil,-4.5,0)\n",
    "\n",
    "    cv2.imshow(\"Sharpened 1\", sharpened1)\n",
    "    cv2.imshow(\"Sharpened 2\", sharpened2)\n",
    "    cv2.imshow(\"Sharpened 3\", sharpened3)\n",
    "else:\n",
    "    print(\"Clear image BilateralBlur\")\n",
    "print(laplacian_var)\n",
    "\n",
    "cv2.imshow(\"BilateralBlur\", output_bil)\n",
    "cv2.imshow(\"original\", img)\n",
    "cv2.waitKey(0)\n",
    "cv2.destroyAllWindows()"
   ]
  },
  {
   "cell_type": "code",
   "execution_count": null,
   "id": "46fa3c2d-833e-44f3-894d-50e22bf88d2a",
   "metadata": {},
   "outputs": [],
   "source": []
  },
  {
   "cell_type": "code",
   "execution_count": null,
   "id": "4d543766-f12d-4ade-bbf2-7ce5643b2267",
   "metadata": {},
   "outputs": [],
   "source": []
  },
  {
   "cell_type": "code",
   "execution_count": 9,
   "id": "826a9324-e3b5-4cc9-8f68-cd6829d6623d",
   "metadata": {},
   "outputs": [
    {
     "name": "stdout",
     "output_type": "stream",
     "text": [
      "The image is blurry.\n",
      "True\n"
     ]
    }
   ],
   "source": [
    "import cv2\n",
    "import numpy as np\n",
    "\n",
    "def variance_of_laplacian(image):\n",
    "    return cv2.Laplacian(image, cv2.CV_64F).var()\n",
    "\n",
    "def is_blurry(image_path, threshold=100):\n",
    "    image = cv2.imread(image_path)\n",
    "    gray = cv2.cvtColor(image, cv2.COLOR_BGR2GRAY)\n",
    "    fm = variance_of_laplacian(gray)\n",
    "    if fm < threshold:\n",
    "        return True\n",
    "    else:\n",
    "        return False\n",
    "\n",
    "# Example usage:\n",
    "image_path = \"blur.jpeg\"\n",
    "result = is_blurry(image_path)\n",
    "\n",
    "if result:\n",
    "    print(\"The image is blurry.\")\n",
    "else:\n",
    "    print(\"The image is not blurry.\")\n",
    "    \n",
    "print(result)"
   ]
  },
  {
   "cell_type": "code",
   "execution_count": null,
   "id": "bf6404b2-2799-4114-bb6a-068e66fc73f3",
   "metadata": {},
   "outputs": [],
   "source": []
  },
  {
   "cell_type": "code",
   "execution_count": null,
   "id": "7129c644-f7d2-4a58-a7e0-7f773b6e8379",
   "metadata": {},
   "outputs": [],
   "source": []
  },
  {
   "cell_type": "code",
   "execution_count": null,
   "id": "05ba2f3b-a486-4be0-958c-5dd5ace3806e",
   "metadata": {},
   "outputs": [],
   "source": []
  }
 ],
 "metadata": {
  "kernelspec": {
   "display_name": "Python 3 (ipykernel)",
   "language": "python",
   "name": "python3"
  },
  "language_info": {
   "codemirror_mode": {
    "name": "ipython",
    "version": 3
   },
   "file_extension": ".py",
   "mimetype": "text/x-python",
   "name": "python",
   "nbconvert_exporter": "python",
   "pygments_lexer": "ipython3",
   "version": "3.9.13"
  }
 },
 "nbformat": 4,
 "nbformat_minor": 5
}
